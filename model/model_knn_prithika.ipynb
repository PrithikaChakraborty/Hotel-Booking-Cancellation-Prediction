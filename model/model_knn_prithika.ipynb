{
  "cells": [
    {
      "cell_type": "code",
      "source": [
        "\n",
        "# 1. Import Libraries\n",
        "import pandas as pd\n",
        "import numpy as np\n",
        "import warnings\n",
        "import joblib\n",
        "from sklearn.model_selection import train_test_split\n",
        "from sklearn.neighbors import KNeighborsClassifier\n",
        "from sklearn.metrics import accuracy_score, roc_auc_score, classification_report\n",
        "\n",
        "warnings.filterwarnings('ignore')\n",
        "pd.set_option('display.max_columns', None)\n"
      ],
      "metadata": {
        "id": "9dDsQAFLu_D3"
      },
      "execution_count": 9,
      "outputs": []
    },
    {
      "cell_type": "code",
      "source": [
        "# 2. Load Data\n",
        "df = pd.read_csv('./hotel_bookings.csv')\n"
      ],
      "metadata": {
        "id": "9M-coeJqvBJ3"
      },
      "execution_count": 10,
      "outputs": []
    },
    {
      "cell_type": "code",
      "source": [
        "# 3. Initial Cleaning\n",
        "# Fill missing values\n",
        "df['company'] = df['company'].fillna(0)\n",
        "df['agent'] = df['agent'].fillna(0)\n",
        "df['country'] = df['country'].fillna('Undefined')\n",
        "df['children'] = df['children'].fillna(0)\n",
        "\n",
        "# Remove bookings with zero adults, children, and babies\n",
        "zero_guest_filter = (df['adults'] == 0) & (df['children'] == 0) & (df['babies'] == 0)\n",
        "df = df[~zero_guest_filter]\n",
        "\n",
        "print(\"Initial data cleaning complete.\")\n"
      ],
      "metadata": {
        "colab": {
          "base_uri": "https://localhost:8080/"
        },
        "id": "p3TbG2d3vHj4",
        "outputId": "eba5a12b-3cfd-46c5-bd54-7d19d8bb0b15"
      },
      "execution_count": 5,
      "outputs": [
        {
          "output_type": "stream",
          "name": "stdout",
          "text": [
            "Initial data cleaning complete.\n"
          ]
        }
      ]
    },
    {
      "cell_type": "code",
      "source": [
        "\n",
        "# 4. Feature Engineering & Preprocessing\n",
        "# Drop columns not useful for prediction\n",
        "useless_cols = ['days_in_waiting_list', 'arrival_date_year',\n",
        "                'booking_changes', 'reservation_status', 'country', 'reservation_status_date']\n",
        "df_ml = df.drop(useless_cols, axis=1)\n",
        "\n",
        "# Separate categorical and numerical columns\n",
        "cat_cols = [col for col in df_ml.columns if df_ml[col].dtype == 'O']\n",
        "num_cols = [col for col in df_ml.columns if df_ml[col].dtype != 'O']\n",
        "\n",
        "# Manual mapping for categorical features (as you specified)\n",
        "df_ml['hotel'] = df_ml['hotel'].map({'Resort Hotel': 0, 'City Hotel': 1})\n",
        "df_ml['arrival_date_month'] = df_ml['arrival_date_month'].map({'January': 1, 'February': 2, 'March': 3, 'April': 4, 'May': 5, 'June': 6, 'July': 7, 'August': 8, 'September': 9, 'October': 10, 'November': 11, 'December': 12})\n",
        "df_ml['meal'] = df_ml['meal'].map({'BB': 0, 'FB': 1, 'HB': 2, 'SC': 3, 'Undefined': 4})\n",
        "df_ml['market_segment'] = df_ml['market_segment'].map({'Direct': 0, 'Corporate': 1, 'Online TA': 2, 'Offline TA/TO': 3, 'Complementary': 4, 'Groups': 5, 'Undefined': 6, 'Aviation': 7})\n",
        "df_ml['distribution_channel'] = df_ml['distribution_channel'].map({'Direct': 0, 'Corporate': 1, 'TA/TO': 2, 'Undefined': 3, 'GDS': 4})\n",
        "df_ml['reserved_room_type'] = df_ml['reserved_room_type'].map({'C': 0, 'A': 1, 'D': 2, 'E': 3, 'G': 4, 'F': 5, 'H': 6, 'L': 7, 'B': 8, 'P': 9})\n",
        "df_ml['assigned_room_type'] = df_ml['assigned_room_type'].map({'C': 0, 'A': 1, 'D': 2, 'E': 3, 'G': 4, 'F': 5, 'H': 6, 'L': 7, 'B': 8, 'P': 9})\n",
        "df_ml['deposit_type'] = df_ml['deposit_type'].map({'No Deposit': 0, 'Refundable': 1, 'Non Refund': 2})\n",
        "df_ml['customer_type'] = df_ml['customer_type'].map({'Transient': 0, 'Contract': 1, 'Transient-Party': 2, 'Group': 3})\n",
        "df_ml['room_match'] = (df_ml['reserved_room_type'] == df_ml['assigned_room_type']).astype(int)\n",
        "\n",
        "# Drop the original reserved and assigned room columns\n",
        "df_ml = df_ml.drop(['reserved_room_type', 'assigned_room_type'], axis=1)\n",
        "print(\"Categorical variables encoded.\")\n",
        "\n",
        "# Handle any remaining NaNs after mapping (e.g., if a category was missed)\n",
        "df_ml = df_ml.fillna(0) # Simple strategy for any leftovers\n",
        "\n",
        "# Apply log transformation to reduce skewness\n",
        "log_cols = ['lead_time', 'arrival_date_week_number', 'arrival_date_day_of_month', 'agent', 'company', 'adr']\n",
        "for col in log_cols:\n",
        "    df_ml[col] = np.log1p(df_ml[col]) # Use np.log1p which is log(x+1)\n",
        "\n",
        "print(\"Numerical variables transformed.\")\n",
        "\n",
        "# Drop rows with any remaining NaNs after all transformations\n",
        "# This is a crucial step for KNN, which does not handle NaNs.\n",
        "df_ml = df_ml.dropna()\n",
        "print(\"Removed any remaining rows with NaN values.\")\n",
        "\n"
      ],
      "metadata": {
        "colab": {
          "base_uri": "https://localhost:8080/"
        },
        "id": "Ws38-oYmvKt_",
        "outputId": "d1070b5c-055e-46dd-f893-7a2160a576a6"
      },
      "execution_count": 6,
      "outputs": [
        {
          "output_type": "stream",
          "name": "stdout",
          "text": [
            "Categorical variables encoded.\n",
            "Numerical variables transformed.\n",
            "Removed any remaining rows with NaN values.\n"
          ]
        }
      ]
    },
    {
      "cell_type": "code",
      "source": [
        "# 5. Model Training\n",
        "# Define features (X) and target (y)\n",
        "X = df_ml.drop('is_canceled', axis=1)\n",
        "y = df_ml['is_canceled']\n",
        "\n",
        "# Split data\n",
        "X_train, X_test, y_train, y_test = train_test_split(X, y, test_size=0.3, random_state=42)\n",
        "\n",
        "# --- Start of KNN specific changes ---\n",
        "# Initialize and train KNN Classifier\n",
        "# A simple starting point is n_neighbors=5, a value that can be further tuned.\n",
        "knn = KNeighborsClassifier(n_neighbors=5)\n",
        "knn.fit(X_train, y_train)\n",
        "# --- End of KNN specific changes ---\n",
        "\n",
        "# Evaluate model\n",
        "y_pred = knn.predict(X_test)\n",
        "accuracy = accuracy_score(y_test, y_pred)\n",
        "print(f\"Model Accuracy: {accuracy:.4f}\")\n",
        "\n",
        "# Predict probabilities for the positive class\n",
        "y_pred_proba = knn.predict_proba(X_test)[:, 1]\n",
        "\n",
        "# Calculate ROC-AUC\n",
        "roc_auc = roc_auc_score(y_test, y_pred_proba)\n",
        "print(\"ROC-AUC Score:\", roc_auc)\n",
        "\n",
        "# Metrics\n",
        "print(\"\\n[Classification Report @ 0.5 threshold]\")\n",
        "print(classification_report(y_test, y_pred))\n"
      ],
      "metadata": {
        "colab": {
          "base_uri": "https://localhost:8080/"
        },
        "id": "b72QKYegvNd4",
        "outputId": "0969a89d-ef35-4c04-fb27-14bce150a9d0"
      },
      "execution_count": 7,
      "outputs": [
        {
          "output_type": "stream",
          "name": "stdout",
          "text": [
            "Model Accuracy: 0.8208\n",
            "ROC-AUC Score: 0.8774085262732927\n",
            "\n",
            "[Classification Report @ 0.5 threshold]\n",
            "              precision    recall  f1-score   support\n",
            "\n",
            "           0       0.84      0.88      0.86     22449\n",
            "           1       0.78      0.73      0.75     13314\n",
            "\n",
            "    accuracy                           0.82     35763\n",
            "   macro avg       0.81      0.80      0.81     35763\n",
            "weighted avg       0.82      0.82      0.82     35763\n",
            "\n"
          ]
        }
      ]
    },
    {
      "cell_type": "code",
      "source": [
        "\n",
        "# 6. Save the Trained Model\n",
        "joblib.dump(knn, './model.joblib')\n",
        "print(\"Model saved to 'model.joblib'\")\n",
        "joblib.dump(X.columns, './model_columns.pkl')\n",
        "print(\"Model columns saved to 'model_columns.pkl'\")"
      ],
      "metadata": {
        "colab": {
          "base_uri": "https://localhost:8080/"
        },
        "id": "TPxa09zXvPRx",
        "outputId": "1c8a3c45-ab8a-42bd-bc71-c4d3538f2b98"
      },
      "execution_count": 8,
      "outputs": [
        {
          "output_type": "stream",
          "name": "stdout",
          "text": [
            "Model saved to 'model.joblib'\n",
            "Model columns saved to 'model_columns.pkl'\n"
          ]
        }
      ]
    }
  ],
  "metadata": {
    "colab": {
      "provenance": []
    },
    "kernelspec": {
      "display_name": "Python 3",
      "name": "python3"
    }
  },
  "nbformat": 4,
  "nbformat_minor": 0
}